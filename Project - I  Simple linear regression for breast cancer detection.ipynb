{
 "cells": [
  {
   "cell_type": "markdown",
   "id": "606001ac",
   "metadata": {},
   "source": [
    "### A Simple Linear Regression for Breast Cancer Detection"
   ]
  },
  {
   "cell_type": "markdown",
   "id": "081676fd",
   "metadata": {},
   "source": [
    "### Problem Statement :\n",
    "Use a __simple linear regression__ for breast cancer detection.\n",
    "\n",
    "Dataset link : http://archive.ics.uci.edu/ml/datasets/Breast+Cancer+Wisconsin+%28Diagnostic%29Links \n",
    "\n",
    "The input matrix is called P, each row of which corresponds to different measurements of a patient’s tumor cell sample. The corresponding element in the output vector T is -1 if the cell was determined to be benign and +1 otherwise.\n",
    "\n",
    "__Task 1:__ \n",
    "\n",
    "(a) Plot the ROC curve and \n",
    "\n",
    "(b) Calculate TPRs at FPR of 5% and 10%, alongside the corresponding thresholds. Use the whole dataset. \n",
    "\n",
    "__Task 2 :__\n",
    "\n",
    "(a) Use the first 2/3 or 66.67% of the data for training and 1/3 or 33.33% of the data for testing.\n",
    "\n",
    "(b) Plot the ROC curve \n",
    "\n",
    "(c) Calculate TPRs at FPR of 5% and 10%, alongside the corresponding thresholds. Use the whole dataset. \n",
    "\n",
    "(d) Apply training thresholds to the test data and calculate TPR/FPR pairs for the test subset, use the same decision thresholds obtained for training's 5% and 10% FPRs \n",
    "\n",
    " "
   ]
  },
  {
   "cell_type": "markdown",
   "id": "de977cd2",
   "metadata": {},
   "source": [
    "### Method : \n",
    "* __Dataset Download:__  The dataset is read directly from the UCI Machine Learning repository using pandas.read_csv.\n",
    "* __Diagnosis Conversion:__ The Diagnosis column is converted to -1 for benign and +1 for malignant.\n",
    "* __Feature Matrix (P) and Target Vector (T):__ We extract the feature matrix P (all feature columns) and target vector T (the diagnosis values).\n",
    "* __Print Statements:__ The code prints the few rows of P and T and also displays the dimensions of the data.\n",
    "* __Note :__ __TPR__ – True Positive Rate and __FPR__ – False Positive Rate"
   ]
  },
  {
   "cell_type": "markdown",
   "id": "cb25e09e",
   "metadata": {},
   "source": [
    "* __Import required libraries__"
   ]
  },
  {
   "cell_type": "code",
   "execution_count": 9,
   "id": "56573527",
   "metadata": {},
   "outputs": [],
   "source": [
    "# Import required libraries\n",
    "import numpy as np\n",
    "import pandas as pd\n",
    "\n",
    "import matplotlib.pyplot as plt\n",
    "from sklearn.metrics import roc_curve\n",
    "from sklearn.model_selection import train_test_split"
   ]
  },
  {
   "cell_type": "code",
   "execution_count": 10,
   "id": "24df0861",
   "metadata": {},
   "outputs": [
    {
     "data": {
      "text/html": [
       "<div>\n",
       "<style scoped>\n",
       "    .dataframe tbody tr th:only-of-type {\n",
       "        vertical-align: middle;\n",
       "    }\n",
       "\n",
       "    .dataframe tbody tr th {\n",
       "        vertical-align: top;\n",
       "    }\n",
       "\n",
       "    .dataframe thead th {\n",
       "        text-align: right;\n",
       "    }\n",
       "</style>\n",
       "<table border=\"1\" class=\"dataframe\">\n",
       "  <thead>\n",
       "    <tr style=\"text-align: right;\">\n",
       "      <th></th>\n",
       "      <th>ID</th>\n",
       "      <th>Diagnosis</th>\n",
       "      <th>Feature_1</th>\n",
       "      <th>Feature_2</th>\n",
       "      <th>Feature_3</th>\n",
       "      <th>Feature_4</th>\n",
       "      <th>Feature_5</th>\n",
       "      <th>Feature_6</th>\n",
       "      <th>Feature_7</th>\n",
       "      <th>Feature_8</th>\n",
       "      <th>...</th>\n",
       "      <th>Feature_21</th>\n",
       "      <th>Feature_22</th>\n",
       "      <th>Feature_23</th>\n",
       "      <th>Feature_24</th>\n",
       "      <th>Feature_25</th>\n",
       "      <th>Feature_26</th>\n",
       "      <th>Feature_27</th>\n",
       "      <th>Feature_28</th>\n",
       "      <th>Feature_29</th>\n",
       "      <th>Feature_30</th>\n",
       "    </tr>\n",
       "  </thead>\n",
       "  <tbody>\n",
       "    <tr>\n",
       "      <th>0</th>\n",
       "      <td>842302</td>\n",
       "      <td>M</td>\n",
       "      <td>17.99</td>\n",
       "      <td>10.38</td>\n",
       "      <td>122.80</td>\n",
       "      <td>1001.0</td>\n",
       "      <td>0.11840</td>\n",
       "      <td>0.27760</td>\n",
       "      <td>0.30010</td>\n",
       "      <td>0.14710</td>\n",
       "      <td>...</td>\n",
       "      <td>25.380</td>\n",
       "      <td>17.33</td>\n",
       "      <td>184.60</td>\n",
       "      <td>2019.0</td>\n",
       "      <td>0.16220</td>\n",
       "      <td>0.66560</td>\n",
       "      <td>0.7119</td>\n",
       "      <td>0.2654</td>\n",
       "      <td>0.4601</td>\n",
       "      <td>0.11890</td>\n",
       "    </tr>\n",
       "    <tr>\n",
       "      <th>1</th>\n",
       "      <td>842517</td>\n",
       "      <td>M</td>\n",
       "      <td>20.57</td>\n",
       "      <td>17.77</td>\n",
       "      <td>132.90</td>\n",
       "      <td>1326.0</td>\n",
       "      <td>0.08474</td>\n",
       "      <td>0.07864</td>\n",
       "      <td>0.08690</td>\n",
       "      <td>0.07017</td>\n",
       "      <td>...</td>\n",
       "      <td>24.990</td>\n",
       "      <td>23.41</td>\n",
       "      <td>158.80</td>\n",
       "      <td>1956.0</td>\n",
       "      <td>0.12380</td>\n",
       "      <td>0.18660</td>\n",
       "      <td>0.2416</td>\n",
       "      <td>0.1860</td>\n",
       "      <td>0.2750</td>\n",
       "      <td>0.08902</td>\n",
       "    </tr>\n",
       "    <tr>\n",
       "      <th>2</th>\n",
       "      <td>84300903</td>\n",
       "      <td>M</td>\n",
       "      <td>19.69</td>\n",
       "      <td>21.25</td>\n",
       "      <td>130.00</td>\n",
       "      <td>1203.0</td>\n",
       "      <td>0.10960</td>\n",
       "      <td>0.15990</td>\n",
       "      <td>0.19740</td>\n",
       "      <td>0.12790</td>\n",
       "      <td>...</td>\n",
       "      <td>23.570</td>\n",
       "      <td>25.53</td>\n",
       "      <td>152.50</td>\n",
       "      <td>1709.0</td>\n",
       "      <td>0.14440</td>\n",
       "      <td>0.42450</td>\n",
       "      <td>0.4504</td>\n",
       "      <td>0.2430</td>\n",
       "      <td>0.3613</td>\n",
       "      <td>0.08758</td>\n",
       "    </tr>\n",
       "    <tr>\n",
       "      <th>3</th>\n",
       "      <td>84348301</td>\n",
       "      <td>M</td>\n",
       "      <td>11.42</td>\n",
       "      <td>20.38</td>\n",
       "      <td>77.58</td>\n",
       "      <td>386.1</td>\n",
       "      <td>0.14250</td>\n",
       "      <td>0.28390</td>\n",
       "      <td>0.24140</td>\n",
       "      <td>0.10520</td>\n",
       "      <td>...</td>\n",
       "      <td>14.910</td>\n",
       "      <td>26.50</td>\n",
       "      <td>98.87</td>\n",
       "      <td>567.7</td>\n",
       "      <td>0.20980</td>\n",
       "      <td>0.86630</td>\n",
       "      <td>0.6869</td>\n",
       "      <td>0.2575</td>\n",
       "      <td>0.6638</td>\n",
       "      <td>0.17300</td>\n",
       "    </tr>\n",
       "    <tr>\n",
       "      <th>4</th>\n",
       "      <td>84358402</td>\n",
       "      <td>M</td>\n",
       "      <td>20.29</td>\n",
       "      <td>14.34</td>\n",
       "      <td>135.10</td>\n",
       "      <td>1297.0</td>\n",
       "      <td>0.10030</td>\n",
       "      <td>0.13280</td>\n",
       "      <td>0.19800</td>\n",
       "      <td>0.10430</td>\n",
       "      <td>...</td>\n",
       "      <td>22.540</td>\n",
       "      <td>16.67</td>\n",
       "      <td>152.20</td>\n",
       "      <td>1575.0</td>\n",
       "      <td>0.13740</td>\n",
       "      <td>0.20500</td>\n",
       "      <td>0.4000</td>\n",
       "      <td>0.1625</td>\n",
       "      <td>0.2364</td>\n",
       "      <td>0.07678</td>\n",
       "    </tr>\n",
       "    <tr>\n",
       "      <th>...</th>\n",
       "      <td>...</td>\n",
       "      <td>...</td>\n",
       "      <td>...</td>\n",
       "      <td>...</td>\n",
       "      <td>...</td>\n",
       "      <td>...</td>\n",
       "      <td>...</td>\n",
       "      <td>...</td>\n",
       "      <td>...</td>\n",
       "      <td>...</td>\n",
       "      <td>...</td>\n",
       "      <td>...</td>\n",
       "      <td>...</td>\n",
       "      <td>...</td>\n",
       "      <td>...</td>\n",
       "      <td>...</td>\n",
       "      <td>...</td>\n",
       "      <td>...</td>\n",
       "      <td>...</td>\n",
       "      <td>...</td>\n",
       "      <td>...</td>\n",
       "    </tr>\n",
       "    <tr>\n",
       "      <th>564</th>\n",
       "      <td>926424</td>\n",
       "      <td>M</td>\n",
       "      <td>21.56</td>\n",
       "      <td>22.39</td>\n",
       "      <td>142.00</td>\n",
       "      <td>1479.0</td>\n",
       "      <td>0.11100</td>\n",
       "      <td>0.11590</td>\n",
       "      <td>0.24390</td>\n",
       "      <td>0.13890</td>\n",
       "      <td>...</td>\n",
       "      <td>25.450</td>\n",
       "      <td>26.40</td>\n",
       "      <td>166.10</td>\n",
       "      <td>2027.0</td>\n",
       "      <td>0.14100</td>\n",
       "      <td>0.21130</td>\n",
       "      <td>0.4107</td>\n",
       "      <td>0.2216</td>\n",
       "      <td>0.2060</td>\n",
       "      <td>0.07115</td>\n",
       "    </tr>\n",
       "    <tr>\n",
       "      <th>565</th>\n",
       "      <td>926682</td>\n",
       "      <td>M</td>\n",
       "      <td>20.13</td>\n",
       "      <td>28.25</td>\n",
       "      <td>131.20</td>\n",
       "      <td>1261.0</td>\n",
       "      <td>0.09780</td>\n",
       "      <td>0.10340</td>\n",
       "      <td>0.14400</td>\n",
       "      <td>0.09791</td>\n",
       "      <td>...</td>\n",
       "      <td>23.690</td>\n",
       "      <td>38.25</td>\n",
       "      <td>155.00</td>\n",
       "      <td>1731.0</td>\n",
       "      <td>0.11660</td>\n",
       "      <td>0.19220</td>\n",
       "      <td>0.3215</td>\n",
       "      <td>0.1628</td>\n",
       "      <td>0.2572</td>\n",
       "      <td>0.06637</td>\n",
       "    </tr>\n",
       "    <tr>\n",
       "      <th>566</th>\n",
       "      <td>926954</td>\n",
       "      <td>M</td>\n",
       "      <td>16.60</td>\n",
       "      <td>28.08</td>\n",
       "      <td>108.30</td>\n",
       "      <td>858.1</td>\n",
       "      <td>0.08455</td>\n",
       "      <td>0.10230</td>\n",
       "      <td>0.09251</td>\n",
       "      <td>0.05302</td>\n",
       "      <td>...</td>\n",
       "      <td>18.980</td>\n",
       "      <td>34.12</td>\n",
       "      <td>126.70</td>\n",
       "      <td>1124.0</td>\n",
       "      <td>0.11390</td>\n",
       "      <td>0.30940</td>\n",
       "      <td>0.3403</td>\n",
       "      <td>0.1418</td>\n",
       "      <td>0.2218</td>\n",
       "      <td>0.07820</td>\n",
       "    </tr>\n",
       "    <tr>\n",
       "      <th>567</th>\n",
       "      <td>927241</td>\n",
       "      <td>M</td>\n",
       "      <td>20.60</td>\n",
       "      <td>29.33</td>\n",
       "      <td>140.10</td>\n",
       "      <td>1265.0</td>\n",
       "      <td>0.11780</td>\n",
       "      <td>0.27700</td>\n",
       "      <td>0.35140</td>\n",
       "      <td>0.15200</td>\n",
       "      <td>...</td>\n",
       "      <td>25.740</td>\n",
       "      <td>39.42</td>\n",
       "      <td>184.60</td>\n",
       "      <td>1821.0</td>\n",
       "      <td>0.16500</td>\n",
       "      <td>0.86810</td>\n",
       "      <td>0.9387</td>\n",
       "      <td>0.2650</td>\n",
       "      <td>0.4087</td>\n",
       "      <td>0.12400</td>\n",
       "    </tr>\n",
       "    <tr>\n",
       "      <th>568</th>\n",
       "      <td>92751</td>\n",
       "      <td>B</td>\n",
       "      <td>7.76</td>\n",
       "      <td>24.54</td>\n",
       "      <td>47.92</td>\n",
       "      <td>181.0</td>\n",
       "      <td>0.05263</td>\n",
       "      <td>0.04362</td>\n",
       "      <td>0.00000</td>\n",
       "      <td>0.00000</td>\n",
       "      <td>...</td>\n",
       "      <td>9.456</td>\n",
       "      <td>30.37</td>\n",
       "      <td>59.16</td>\n",
       "      <td>268.6</td>\n",
       "      <td>0.08996</td>\n",
       "      <td>0.06444</td>\n",
       "      <td>0.0000</td>\n",
       "      <td>0.0000</td>\n",
       "      <td>0.2871</td>\n",
       "      <td>0.07039</td>\n",
       "    </tr>\n",
       "  </tbody>\n",
       "</table>\n",
       "<p>569 rows × 32 columns</p>\n",
       "</div>"
      ],
      "text/plain": [
       "           ID Diagnosis  Feature_1  Feature_2  Feature_3  Feature_4  \\\n",
       "0      842302         M      17.99      10.38     122.80     1001.0   \n",
       "1      842517         M      20.57      17.77     132.90     1326.0   \n",
       "2    84300903         M      19.69      21.25     130.00     1203.0   \n",
       "3    84348301         M      11.42      20.38      77.58      386.1   \n",
       "4    84358402         M      20.29      14.34     135.10     1297.0   \n",
       "..        ...       ...        ...        ...        ...        ...   \n",
       "564    926424         M      21.56      22.39     142.00     1479.0   \n",
       "565    926682         M      20.13      28.25     131.20     1261.0   \n",
       "566    926954         M      16.60      28.08     108.30      858.1   \n",
       "567    927241         M      20.60      29.33     140.10     1265.0   \n",
       "568     92751         B       7.76      24.54      47.92      181.0   \n",
       "\n",
       "     Feature_5  Feature_6  Feature_7  Feature_8  ...  Feature_21  Feature_22  \\\n",
       "0      0.11840    0.27760    0.30010    0.14710  ...      25.380       17.33   \n",
       "1      0.08474    0.07864    0.08690    0.07017  ...      24.990       23.41   \n",
       "2      0.10960    0.15990    0.19740    0.12790  ...      23.570       25.53   \n",
       "3      0.14250    0.28390    0.24140    0.10520  ...      14.910       26.50   \n",
       "4      0.10030    0.13280    0.19800    0.10430  ...      22.540       16.67   \n",
       "..         ...        ...        ...        ...  ...         ...         ...   \n",
       "564    0.11100    0.11590    0.24390    0.13890  ...      25.450       26.40   \n",
       "565    0.09780    0.10340    0.14400    0.09791  ...      23.690       38.25   \n",
       "566    0.08455    0.10230    0.09251    0.05302  ...      18.980       34.12   \n",
       "567    0.11780    0.27700    0.35140    0.15200  ...      25.740       39.42   \n",
       "568    0.05263    0.04362    0.00000    0.00000  ...       9.456       30.37   \n",
       "\n",
       "     Feature_23  Feature_24  Feature_25  Feature_26  Feature_27  Feature_28  \\\n",
       "0        184.60      2019.0     0.16220     0.66560      0.7119      0.2654   \n",
       "1        158.80      1956.0     0.12380     0.18660      0.2416      0.1860   \n",
       "2        152.50      1709.0     0.14440     0.42450      0.4504      0.2430   \n",
       "3         98.87       567.7     0.20980     0.86630      0.6869      0.2575   \n",
       "4        152.20      1575.0     0.13740     0.20500      0.4000      0.1625   \n",
       "..          ...         ...         ...         ...         ...         ...   \n",
       "564      166.10      2027.0     0.14100     0.21130      0.4107      0.2216   \n",
       "565      155.00      1731.0     0.11660     0.19220      0.3215      0.1628   \n",
       "566      126.70      1124.0     0.11390     0.30940      0.3403      0.1418   \n",
       "567      184.60      1821.0     0.16500     0.86810      0.9387      0.2650   \n",
       "568       59.16       268.6     0.08996     0.06444      0.0000      0.0000   \n",
       "\n",
       "     Feature_29  Feature_30  \n",
       "0        0.4601     0.11890  \n",
       "1        0.2750     0.08902  \n",
       "2        0.3613     0.08758  \n",
       "3        0.6638     0.17300  \n",
       "4        0.2364     0.07678  \n",
       "..          ...         ...  \n",
       "564      0.2060     0.07115  \n",
       "565      0.2572     0.06637  \n",
       "566      0.2218     0.07820  \n",
       "567      0.4087     0.12400  \n",
       "568      0.2871     0.07039  \n",
       "\n",
       "[569 rows x 32 columns]"
      ]
     },
     "execution_count": 10,
     "metadata": {},
     "output_type": "execute_result"
    }
   ],
   "source": [
    "# Download the dataset\n",
    "url = \"https://archive.ics.uci.edu/ml/machine-learning-databases/breast-cancer-wisconsin/wdbc.data\"\n",
    "column_names = [\"ID\", \"Diagnosis\"] + [f\"Feature_{i}\" for i in range(1, 31)]\n",
    "data = pd.read_csv(url, header=None, names=column_names)\n",
    "data"
   ]
  },
  {
   "cell_type": "markdown",
   "id": "e5105c62",
   "metadata": {},
   "source": [
    "* __Convert Diagnosis to numeric (-1 for benign, +1 for malignant)__"
   ]
  },
  {
   "cell_type": "code",
   "execution_count": 11,
   "id": "90722ede",
   "metadata": {},
   "outputs": [
    {
     "data": {
      "text/plain": [
       "0      1\n",
       "1      1\n",
       "2      1\n",
       "3      1\n",
       "4      1\n",
       "      ..\n",
       "564    1\n",
       "565    1\n",
       "566    1\n",
       "567    1\n",
       "568   -1\n",
       "Name: Diagnosis, Length: 569, dtype: int64"
      ]
     },
     "execution_count": 11,
     "metadata": {},
     "output_type": "execute_result"
    }
   ],
   "source": [
    "# Convert Diagnosis to numeric (-1 for benign, +1 for malignant)\n",
    "data['Diagnosis'] = data['Diagnosis'].apply(lambda x: -1 if x == \"B\" else 1)\n",
    "data['Diagnosis']"
   ]
  },
  {
   "cell_type": "markdown",
   "id": "f995d9a2",
   "metadata": {},
   "source": [
    "* __Create P matrix ( input matrix or features matrix) and T vector (output vector or target vector)__"
   ]
  },
  {
   "cell_type": "code",
   "execution_count": 12,
   "id": "a47943ba",
   "metadata": {},
   "outputs": [
    {
     "name": "stdout",
     "output_type": "stream",
     "text": [
      "First few rows of P (features):\n",
      "[[1.799e+01 1.038e+01 1.228e+02 1.001e+03 1.184e-01 2.776e-01 3.001e-01\n",
      "  1.471e-01 2.419e-01 7.871e-02 1.095e+00 9.053e-01 8.589e+00 1.534e+02\n",
      "  6.399e-03 4.904e-02 5.373e-02 1.587e-02 3.003e-02 6.193e-03 2.538e+01\n",
      "  1.733e+01 1.846e+02 2.019e+03 1.622e-01 6.656e-01 7.119e-01 2.654e-01\n",
      "  4.601e-01 1.189e-01]\n",
      " [2.057e+01 1.777e+01 1.329e+02 1.326e+03 8.474e-02 7.864e-02 8.690e-02\n",
      "  7.017e-02 1.812e-01 5.667e-02 5.435e-01 7.339e-01 3.398e+00 7.408e+01\n",
      "  5.225e-03 1.308e-02 1.860e-02 1.340e-02 1.389e-02 3.532e-03 2.499e+01\n",
      "  2.341e+01 1.588e+02 1.956e+03 1.238e-01 1.866e-01 2.416e-01 1.860e-01\n",
      "  2.750e-01 8.902e-02]\n",
      " [1.969e+01 2.125e+01 1.300e+02 1.203e+03 1.096e-01 1.599e-01 1.974e-01\n",
      "  1.279e-01 2.069e-01 5.999e-02 7.456e-01 7.869e-01 4.585e+00 9.403e+01\n",
      "  6.150e-03 4.006e-02 3.832e-02 2.058e-02 2.250e-02 4.571e-03 2.357e+01\n",
      "  2.553e+01 1.525e+02 1.709e+03 1.444e-01 4.245e-01 4.504e-01 2.430e-01\n",
      "  3.613e-01 8.758e-02]\n",
      " [1.142e+01 2.038e+01 7.758e+01 3.861e+02 1.425e-01 2.839e-01 2.414e-01\n",
      "  1.052e-01 2.597e-01 9.744e-02 4.956e-01 1.156e+00 3.445e+00 2.723e+01\n",
      "  9.110e-03 7.458e-02 5.661e-02 1.867e-02 5.963e-02 9.208e-03 1.491e+01\n",
      "  2.650e+01 9.887e+01 5.677e+02 2.098e-01 8.663e-01 6.869e-01 2.575e-01\n",
      "  6.638e-01 1.730e-01]\n",
      " [2.029e+01 1.434e+01 1.351e+02 1.297e+03 1.003e-01 1.328e-01 1.980e-01\n",
      "  1.043e-01 1.809e-01 5.883e-02 7.572e-01 7.813e-01 5.438e+00 9.444e+01\n",
      "  1.149e-02 2.461e-02 5.688e-02 1.885e-02 1.756e-02 5.115e-03 2.254e+01\n",
      "  1.667e+01 1.522e+02 1.575e+03 1.374e-01 2.050e-01 4.000e-01 1.625e-01\n",
      "  2.364e-01 7.678e-02]]\n",
      "\n",
      "First few rows of T (target):\n",
      "[1 1 1 1 1]\n"
     ]
    }
   ],
   "source": [
    "# Create P matrix (features) and T vector (target)\n",
    "P = data.iloc[:, 2:].to_numpy()           # Feature matrix\n",
    "T = data['Diagnosis'].to_numpy()          # Target vector\n",
    "\n",
    "# Display the first few rows of P and T\n",
    "print(\"First few rows of P (features):\")\n",
    "print(P[:5, :])\n",
    "\n",
    "print(\"\\nFirst few rows of T (target):\")\n",
    "print(T[:5])"
   ]
  },
  {
   "cell_type": "code",
   "execution_count": 13,
   "id": "e2930930",
   "metadata": {},
   "outputs": [
    {
     "name": "stdout",
     "output_type": "stream",
     "text": [
      "Number of samples: 569\n",
      "Number of features: 30\n"
     ]
    }
   ],
   "source": [
    "# Save dimensions of P and T\n",
    "n_samples = P.shape[0]\n",
    "n_features = P.shape[1]\n",
    "\n",
    "print(f\"Number of samples: {n_samples}\")\n",
    "print(f\"Number of features: {n_features}\")"
   ]
  },
  {
   "cell_type": "markdown",
   "id": "e2412c3a",
   "metadata": {},
   "source": [
    "###  Task 1:\n",
    "* The __ROC curve__ for the entire dataset is computed using the predictions from a __simple linear__ combination of features.\n",
    "* __Threshold Calculation:__ The code identifies the thresholds corresponding to FPRs of 5% and 10%.\n",
    "\n",
    "### Task 2:\n",
    "* The dataset is split into __training__ and __test sets__.\n",
    "* The __ROC curve__ is computed for __training__ and __test sets__. \n",
    "* __Thresholds__ from the training data are applied to the test data to compute the TPR/FPR values at the same decision boundaries."
   ]
  },
  {
   "cell_type": "markdown",
   "id": "bff0d91e",
   "metadata": {},
   "source": [
    "* Assuming P is the input matrix and T is the output vector \n",
    "\n",
    "* Replace with actual data loading"
   ]
  },
  {
   "cell_type": "code",
   "execution_count": 33,
   "id": "6bbe5e39",
   "metadata": {},
   "outputs": [],
   "source": [
    "# P = np.load('P.npy')                      # Feature matrix\n",
    "# T = np.load('T.npy')                      # Target vector (-1 for benign, 1 for malignant)"
   ]
  },
  {
   "cell_type": "markdown",
   "id": "81b59482",
   "metadata": {},
   "source": [
    "### Task 1: Calculate ROC curve for the entire dataset\n",
    "* __Convert -1 to 0 for ROC compatibility__\n",
    "* __Calculate ROC curve for the entire dataset__\n",
    "* __Plot ROC curve for the entire dataset__"
   ]
  },
  {
   "cell_type": "code",
   "execution_count": 14,
   "id": "464cbfeb",
   "metadata": {},
   "outputs": [
    {
     "data": {
      "image/png": "[encoded data removed]",
      "text/plain": [
       "<Figure size 640x480 with 1 Axes>"
      ]
     },
     "metadata": {},
     "output_type": "display_data"
    }
   ],
   "source": [
    "# Convert -1 to 0 for ROC compatibility\n",
    "T = np.where(T == -1, 0, 1)\n",
    "\n",
    "# Calculate ROC curve for the entire dataset\n",
    "predictions = np.dot(P, np.ones(P.shape[1]))\n",
    "\n",
    "fpr, tpr, thresholds = roc_curve(T, predictions)\n",
    "\n",
    "# Plot ROC curve for the entire dataset\n",
    "plt.plot(fpr, tpr, label=\"ROC Curve\")\n",
    "plt.plot([0, 1], [0, 1], linestyle=\"--\", color=\"red\")\n",
    "plt.title(\"ROC Curve (Entire Dataset)\")\n",
    "plt.xlabel(\"False Positive Rate\")\n",
    "plt.ylabel(\"True Positive Rate\")\n",
    "plt.legend(loc=\"lower right\")\n",
    "plt.grid(True)\n",
    "plt.show()"
   ]
  },
  {
   "cell_type": "markdown",
   "id": "b4d08445",
   "metadata": {},
   "source": [
    "* __Calculate TPR / FPR pairs and thresholds at FPR = 5% and 10%__"
   ]
  },
  {
   "cell_type": "code",
   "execution_count": 35,
   "id": "ff9d0e27",
   "metadata": {},
   "outputs": [
    {
     "name": "stdout",
     "output_type": "stream",
     "text": [
      "TPR at 5% FPR: 0.8207547169811321\n",
      "Threshold at 5% FPR: 1816.0001100000002\n",
      "TPR at 10% FPR: 0.8632075471698113\n",
      "Threshold at 10% FPR: 1744.8418949999998\n"
     ]
    }
   ],
   "source": [
    "# Calculate TPR/FPR pairs and thresholds at FPR = 5% and 10%\n",
    "fpr_5_idx = np.argmin(np.abs(fpr - 0.05))\n",
    "fpr_10_idx = np.argmin(np.abs(fpr - 0.10))\n",
    "\n",
    "tpr_5 = tpr[fpr_5_idx]\n",
    "tpr_10 = tpr[fpr_10_idx]\n",
    "threshold_5 = thresholds[fpr_5_idx]\n",
    "threshold_10 = thresholds[fpr_10_idx]\n",
    "\n",
    "print(f\"TPR at 5% FPR: {tpr_5}\")\n",
    "print(f\"Threshold at 5% FPR: {threshold_5}\")\n",
    "print(f\"TPR at 10% FPR: {tpr_10}\")\n",
    "print(f\"Threshold at 10% FPR: {threshold_10}\")"
   ]
  },
  {
   "cell_type": "markdown",
   "id": "e7d20559",
   "metadata": {},
   "source": [
    "### Conclusion:\n",
    "The results indicate the performance of a classification model at two different False Positive Rate (FPR) thresholds (5% and 10%):\n",
    "\n",
    "#### At 5% FPR:\n",
    "* The True Positive Rate (TPR) is 0.8207, meaning that 82.07% of the actual positives are correctly identified by the model when allowing a 5% False Positive Rate.\n",
    "* The decision threshold for achieving this FPR is 1816.0001. This threshold is used to classify the test predictions, and it reflects a higher threshold, meaning the model is stricter in making positive predictions.\n",
    "\n",
    "#### At 10% FPR:\n",
    "* The TPR improves to 0.8632, indicating that 86.32% of the actual positives are identified when a higher FPR of 10% is allowed.\n",
    "* The decision threshold at this FPR is 1744.8418, which is lower than the threshold at 5% FPR. A lower threshold means the model is more lenient in classifying positive instances, allowing a higher true positive rate but at the cost of more false positives.\n",
    "\n",
    "#### Result:\n",
    "\n",
    "* Increasing the allowed FPR from 5% to 10% results in an increase in TPR from 82.07% to  86.32%, showing that the model is more sensitive to positive cases at a higher FPR.\n",
    "* There is a trade-off between the FPR and TPR. A lower threshold (1744.8418) allows more positive cases to be identified but also increases the false positive rate.\n",
    "* whereas a higher threshold (1816.0001) reduces the false positive rate but at the expense of missing some true positives."
   ]
  },
  {
   "cell_type": "markdown",
   "id": "10a74ae8",
   "metadata": {},
   "source": [
    "### Task 2: Split data into training and testing sets\n",
    "\n",
    "### Case - I : Training Data\n",
    "* __Calculate ROC curve for the training data__\n",
    "* __Plot ROC curve for the training data__"
   ]
  },
  {
   "cell_type": "code",
   "execution_count": 15,
   "id": "05b0bc9d",
   "metadata": {},
   "outputs": [
    {
     "data": {
      "image/png": "[encoded data removed]",
      "text/plain": [
       "<Figure size 640x480 with 1 Axes>"
      ]
     },
     "metadata": {},
     "output_type": "display_data"
    }
   ],
   "source": [
    "P_train, P_test, T_train, T_test = train_test_split(P, T, test_size=1/3, random_state=42)\n",
    "\n",
    "# Calculate ROC curve for the training data\n",
    "train_predictions = np.dot(P_train, np.ones(P_train.shape[1]))\n",
    "fpr_train, tpr_train, thresholds_train = roc_curve(T_train, train_predictions)\n",
    "\n",
    "# Plot ROC curve for the training data\n",
    "plt.plot(fpr_train, tpr_train, label=\"Training ROC Curve\")\n",
    "plt.plot([0, 1], [0, 1], linestyle=\"--\", color=\"red\")\n",
    "plt.title(\"ROC Curve (Training Data)\")\n",
    "plt.xlabel(\"False Positive Rate\")\n",
    "plt.ylabel(\"True Positive Rate\")\n",
    "plt.legend(loc=\"lower right\")\n",
    "plt.grid(True)\n",
    "plt.show()"
   ]
  },
  {
   "cell_type": "markdown",
   "id": "db2cff08",
   "metadata": {},
   "source": [
    "* __Calculate TPR/FPR pairs and thresholds for training data at 5% and 10% FPR__"
   ]
  },
  {
   "cell_type": "code",
   "execution_count": 37,
   "id": "616200d4",
   "metadata": {},
   "outputs": [
    {
     "name": "stdout",
     "output_type": "stream",
     "text": [
      "Training: TPR at 5% FPR: 0.7708333333333334\n",
      "Training: Threshold at 5% FPR: 1888.357024\n",
      "Training: TPR at 10% FPR: 0.8472222222222222\n",
      "Training: Threshold at 10% FPR: 1754.64049\n"
     ]
    }
   ],
   "source": [
    "# Calculate TPR/FPR pairs and thresholds for training data at 5% and 10% FPR\n",
    "fpr_5_train_idx = np.argmin(np.abs(fpr_train - 0.05))\n",
    "fpr_10_train_idx = np.argmin(np.abs(fpr_train - 0.10))\n",
    "\n",
    "tpr_5_train = tpr_train[fpr_5_train_idx]\n",
    "tpr_10_train = tpr_train[fpr_10_train_idx]\n",
    "threshold_5_train = thresholds_train[fpr_5_train_idx]\n",
    "threshold_10_train = thresholds_train[fpr_10_train_idx]\n",
    "\n",
    "print(f\"Training: TPR at 5% FPR: {tpr_5_train}\")\n",
    "print(f\"Training: Threshold at 5% FPR: {threshold_5_train}\")\n",
    "print(f\"Training: TPR at 10% FPR: {tpr_10_train}\")\n",
    "print(f\"Training: Threshold at 10% FPR: {threshold_10_train}\")"
   ]
  },
  {
   "cell_type": "markdown",
   "id": "2272aafd",
   "metadata": {},
   "source": [
    "### Conclusion: Training set\n",
    "The results represent the performance of a classification model on the training set at two different False Positive Rate (FPR) thresholds (5% and 10%):\n",
    "\n",
    "#### At 5% FPR (Training Set):\n",
    "* The True Positive Rate (TPR) is 0.7708, meaning that 77.08% of the actual positives are correctly identified by the model when allowing a 5% False Positive Rate.\n",
    "* The decision threshold to achieve this FPR is 1888.3670, indicating that the model uses a relatively high threshold for making positive predictions. This reflects a more conservative classification approach, resulting in fewer false positives but also a lower TPR.\n",
    "\n",
    "#### At 10% FPR (Training Set):\n",
    "* The TPR increases to 0.8472, meaning that 84.72% of the actual positives are identified when the FPR is increased to 10%.\n",
    "* The decision threshold corresponding to this FPR is 1754.6404, which is lower than the threshold at 5% FPR. This lower threshold allows the model to capture more true positives, though it also results in more false positives.\n",
    "\n",
    "\n",
    "#### Result : \n",
    "* As the allowed FPR increases from 5% to 10%, the TPR improves from 77.08% to 84.72%, demonstrating that the model becomes more sensitive and identifies more true positives when it is allowed to make more false positive errors.\n",
    "* The trade-off between FPR and TPR is evident: a higher threshold (1888.3670) reduces false positives but misses more true positives, while a lower threshold (1754.6404) captures more true positives but at the expense of more false positives.\n",
    "* The model shows a reasonable increase in TPR with a small increase in FPR, suggesting that the model has room to improve sensitivity with a manageable trade-off in false positives."
   ]
  },
  {
   "cell_type": "markdown",
   "id": "e9c90211",
   "metadata": {},
   "source": [
    "### Case - II : Testing Data\n",
    "*  __Calculate ROC curve for the testing data__\n",
    "* __Plot ROC curve for the testing data__"
   ]
  },
  {
   "cell_type": "code",
   "execution_count": 16,
   "id": "8017e7d8",
   "metadata": {},
   "outputs": [
    {
     "data": {
      "image/png": "[encoded data removed]",
      "text/plain": [
       "<Figure size 640x480 with 1 Axes>"
      ]
     },
     "metadata": {},
     "output_type": "display_data"
    }
   ],
   "source": [
    "# Calculate ROC curve for the testing data\n",
    "test_predictions = np.dot(P_test, np.ones(P_test.shape[1]))\n",
    "fpr_test, tpr_test, thresholds_test = roc_curve(T_test, test_predictions)\n",
    "\n",
    "# Plot ROC curve for the testing data\n",
    "plt.plot(fpr_test, tpr_test, label=\"Testing ROC Curve\")\n",
    "plt.plot([0, 1], [0, 1], linestyle=\"--\", color=\"red\")\n",
    "plt.title(\"ROC Curve (Testing Data)\")\n",
    "plt.xlabel(\"False Positive Rate\")\n",
    "plt.ylabel(\"True Positive Rate\")\n",
    "plt.legend(loc=\"lower right\")\n",
    "plt.grid(True)\n",
    "plt.show()"
   ]
  },
  {
   "cell_type": "markdown",
   "id": "57103a31",
   "metadata": {},
   "source": [
    "* __Apply training thresholds to the test data and calculate TPR/FPR pairs__\n",
    "\n",
    "$TPR= TP/(TP+FN)$\n",
    "\n",
    "$FPR= FP/(TN+FP)$"
   ]
  },
  {
   "cell_type": "code",
   "execution_count": 39,
   "id": "30471200",
   "metadata": {},
   "outputs": [
    {
     "name": "stdout",
     "output_type": "stream",
     "text": [
      "Testing: TPR at 5% FPR threshold: 0.8676470588235294\n",
      "Testing: FPR at 5% FPR threshold: 0.00819672131147541\n",
      "Testing: TPR at 10% FPR threshold: 0.8970588235294118\n",
      "Testing: FPR at 10% FPR threshold: 0.09016393442622951\n"
     ]
    }
   ],
   "source": [
    "# Apply training thresholds to the test data and calculate TPR/FPR pairs\n",
    "test_predictions_5 = test_predictions >= threshold_5_train\n",
    "test_predictions_10 = test_predictions >= threshold_10_train\n",
    "\n",
    "tpr_5_test = np.sum((test_predictions_5 == 1) & (T_test == 1)) / np.sum(T_test == 1)\n",
    "fpr_5_test = np.sum((test_predictions_5 == 1) & (T_test == 0)) / np.sum(T_test == 0)\n",
    "\n",
    "tpr_10_test = np.sum((test_predictions_10 == 1) & (T_test == 1)) / np.sum(T_test == 1)\n",
    "fpr_10_test = np.sum((test_predictions_10 == 1) & (T_test == 0)) / np.sum(T_test == 0)\n",
    "\n",
    "print(f\"Testing: TPR at 5% FPR threshold: {tpr_5_test}\")\n",
    "print(f\"Testing: FPR at 5% FPR threshold: {fpr_5_test}\")\n",
    "print(f\"Testing: TPR at 10% FPR threshold: {tpr_10_test}\")\n",
    "print(f\"Testing: FPR at 10% FPR threshold: {fpr_10_test}\")"
   ]
  },
  {
   "cell_type": "markdown",
   "id": "4ddf3566",
   "metadata": {},
   "source": [
    "### Conclusion: Testing Set\n",
    "The results reflect the performance of a classification model on the test set at two different False Positive Rate (FPR) thresholds (5% and 10%). Here’s a breakdown of the findings:\n",
    "\n",
    "#### At the 5% FPR Threshold (Testing Set):\n",
    "* The True Positive Rate (TPR) is 0.8676, meaning that 86.76% of the actual positive cases are correctly identified by the model when aiming for a False Positive Rate around 5%.\n",
    "* However, the actual observed FPR is much lower, at (0.00819) or 0.82%. This indicates that the model is even more conservative than the 5% target, producing fewer false positives than anticipated, while still maintaining a high TPR.\n",
    "\n",
    "#### At the 10% FPR Threshold (Testing Set):\n",
    "* The TPR increases to 0.8971, meaning the model correctly identifies 89.71% of positive cases when the FPR threshold is set at 10%.\n",
    "* The actual observed FPR at this threshold is (0.09016) or 9.02%, closely matching the 10% target. This shows that the model becomes more lenient in making positive predictions, resulting in a slightly higher TPR but also a higher number of false positives.\n",
    "\n",
    "#### Result :\n",
    "* At the 5% FPR threshold, the model has a high TPR of 86.8% with an actual FPR of only 0.82%, meaning it performs better than expected in terms of limiting false positives while still correctly identifying a large proportion of positives.\n",
    "* At the 10% FPR threshold, the TPR improves to 89.7%, showing that the model becomes more sensitive to positive cases, though this comes at the cost of a higher FPR (9.02%).\n",
    "\n",
    "\n",
    "* The trade-off between sensitivity (TPR) and false positives (FPR) is apparent: increasing the FPR threshold from 5% to 10% raises the TPR by about 3 percentage points, but also significantly increases the false positive rate.\n"
   ]
  },
  {
   "cell_type": "markdown",
   "id": "820e1b65",
   "metadata": {},
   "source": [
    "### Final  Conclusion:\n",
    "Overall, the model performs well in terms of balancing TPR and FPR, with strong detection of positives at both thresholds and better-than-expected false positive control at the 5% FPR threshold."
   ]
  }
 ],
 "metadata": {
  "kernelspec": {
   "display_name": "Python 3 (ipykernel)",
   "language": "python",
   "name": "python3"
  },
  "language_info": {
   "codemirror_mode": {
    "name": "ipython",
    "version": 3
   },
   "file_extension": ".py",
   "mimetype": "text/x-python",
   "name": "python",
   "nbconvert_exporter": "python",
   "pygments_lexer": "ipython3",
   "version": "3.8.18"
  }
 },
 "nbformat": 4,
 "nbformat_minor": 5
}
